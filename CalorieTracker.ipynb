{
 "cells": [
  {
   "cell_type": "markdown",
   "id": "8f3488eb",
   "metadata": {},
   "source": [
    "## Calorie Tracker"
   ]
  },
  {
   "cell_type": "markdown",
   "id": "978e9786",
   "metadata": {},
   "source": [
    "My attempt to create a *data visualisation programme*. \n",
    "A simple **calorie tracker** that uses the terminal to get take in inputs and creates graphs and charts to visualise it."
   ]
  },
  {
   "cell_type": "code",
   "execution_count": 2,
   "id": "0dfb0c6c",
   "metadata": {},
   "outputs": [],
   "source": [
    "from dataclasses import dataclass\n",
    "\n",
    "import numpy as np\n",
    "import matplotlib.pyplot as plt"
   ]
  },
  {
   "cell_type": "markdown",
   "id": "0ff8f51e",
   "metadata": {},
   "source": [
    "Seting up constants which can be changed to the needs of the user. This is based on me, with a weight of 60kg and age of 16 years old."
   ]
  },
  {
   "cell_type": "code",
   "execution_count": 3,
   "id": "5554ac9d",
   "metadata": {},
   "outputs": [],
   "source": [
    "CALORIE_GOAL_LIMIT = 3320 #kcal\n",
    "PROTEIN_GOAL = 203  #grams\n",
    "FAT_GOAL = 95 #grams\n",
    "CARBS_GOAL = 444 #grams\n",
    "\n",
    "today = []"
   ]
  },
  {
   "cell_type": "markdown",
   "id": "4a54b5ba",
   "metadata": {},
   "source": [
    "Using the dataclass decorator. Data classes hold certain properties and functions to deal specifically with the data and its representation i.e. in this case the data type."
   ]
  },
  {
   "cell_type": "code",
   "execution_count": 5,
   "id": "41f85d5f",
   "metadata": {},
   "outputs": [],
   "source": [
    "@dataclass\n",
    "class Food:\n",
    "    name: str\n",
    "    calories: int\n",
    "    protein: int\n",
    "    fat: int\n",
    "    carbs: int"
   ]
  },
  {
   "cell_type": "markdown",
   "id": "52d57eb6",
   "metadata": {},
   "source": [
    "Creating a menu that runs till told otherwise."
   ]
  },
  {
   "cell_type": "code",
   "execution_count": 6,
   "id": "807ce4f5",
   "metadata": {},
   "outputs": [],
   "source": [
    "end = False"
   ]
  },
  {
   "cell_type": "markdown",
   "id": "2ef97f12",
   "metadata": {},
   "source": [
    "The main function that does the rest of the work:"
   ]
  },
  {
   "cell_type": "code",
   "execution_count": null,
   "id": "a1dd1317",
   "metadata": {},
   "outputs": [],
   "source": [
    "while not end:\n",
    "    print(\"\"\"\n",
    "    (1) Add New Food\n",
    "    (2) Visualise Data\n",
    "    (q) Quit\n",
    "    \"\"\")\n",
    "\n",
    "    choice = input(\"Choose an option: \")\n",
    "\n",
    "    if choice == \"1\":\n",
    "        print(\"Adding a new food!\")\n",
    "        name = input(\"Name: \")\n",
    "        calories = int(input(\"Calories: \"))\n",
    "        protein = int(input(\"Protein: \"))\n",
    "        fat = int(input(\"Fats: \"))\n",
    "        carbs = int(input(\"Carbs: \"))\n",
    "        food = Food(name, calories, protein, fat, carbs)\n",
    "        today.append(food)\n",
    "        print(\"Successfully added!\")\n",
    "    elif choice == \"2\":\n",
    "        calorie_sum = sum(food.calories for food in today)\n",
    "        if calorie_sum > CALORIE_GOAL_LIMIT:\n",
    "            print(\"Exceeded Calorie Limit\")\n",
    "            end = True\n",
    "        else:\n",
    "            pass\n",
    "        protein_sum = sum(food.protein for food in today)\n",
    "        fats_sum = sum(food.fat for food in today)\n",
    "        carbs_sum = sum(food.carbs for food in today)\n",
    "\n",
    "        fig, axs = plt.subplots(2, 2)\n",
    "        axs[0, 0].pie([protein_sum, fats_sum, carbs_sum], labels=[\"Protein\", \"Fats\", \"Carbs\"], autopct=\"%1.1f%%\")\n",
    "        axs[0, 0].set_title(\"Macronutrients Distribution\")\n",
    "        axs[0, 1].bar([0, 1, 2], [protein_sum, fats_sum, carbs_sum], width=0.4)\n",
    "        axs[0, 1].bar([0.5, 1.5, 2.5], [PROTEIN_GOAL, FAT_GOAL, CARBS_GOAL], width=0.4)\n",
    "        axs[0, 1].set_title(\"Macronutrients Progress\")\n",
    "        axs[1, 0].pie([calorie_sum, CALORIE_GOAL_LIMIT - calorie_sum], labels=[\"Calories\", \"Remaining\"], autopct=\"%1.1f%%\")\n",
    "        axs[1, 0].set_title(\"Calorie Goal Progress\")\n",
    "        axs[1, 1].plot(list(range(len(today))), np.cumsum([food.calories for food in today]), label=\"Calories Eaten\")\n",
    "        axs[1, 1].plot(list(range(len(today))), [CALORIE_GOAL_LIMIT] * len(today), label=\"Calorie Goal\")\n",
    "        axs[1, 1].legend()\n",
    "        axs[1, 1].set_title(\"Calories Goal Over Time\")\n",
    "        fig.tight_layout()\n",
    "        plt.show()\n",
    "        end = True\n",
    "\n",
    "    elif choice == \"q\":\n",
    "        end = True\n",
    "    else:\n",
    "        print(\"Invalid Choice!\")"
   ]
  }
 ],
 "metadata": {
  "kernelspec": {
   "display_name": "Python 3 (ipykernel)",
   "language": "python",
   "name": "python3"
  },
  "language_info": {
   "codemirror_mode": {
    "name": "ipython",
    "version": 3
   },
   "file_extension": ".py",
   "mimetype": "text/x-python",
   "name": "python",
   "nbconvert_exporter": "python",
   "pygments_lexer": "ipython3",
   "version": "3.10.9"
  }
 },
 "nbformat": 4,
 "nbformat_minor": 5
}
